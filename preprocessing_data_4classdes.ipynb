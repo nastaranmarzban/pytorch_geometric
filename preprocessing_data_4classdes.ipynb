{
  "nbformat": 4,
  "nbformat_minor": 0,
  "metadata": {
    "colab": {
      "provenance": [],
      "authorship_tag": "ABX9TyPzX3k+3lx/kSV2zeE8W50z",
      "include_colab_link": true
    },
    "kernelspec": {
      "name": "python3",
      "display_name": "Python 3"
    },
    "language_info": {
      "name": "python"
    }
  },
  "cells": [
    {
      "cell_type": "markdown",
      "metadata": {
        "id": "view-in-github",
        "colab_type": "text"
      },
      "source": [
        "<a href=\"https://colab.research.google.com/github/nastaranmarzban/pytorch_geometric/blob/master/preprocessing_data_4classdes.ipynb\" target=\"_parent\"><img src=\"https://colab.research.google.com/assets/colab-badge.svg\" alt=\"Open In Colab\"/></a>"
      ]
    },
    {
      "cell_type": "markdown",
      "source": [
        "## Mount to gdrive to read data, adjacency matrix, p_link and labels. "
      ],
      "metadata": {
        "id": "utAZoYapMmZg"
      }
    },
    {
      "cell_type": "code",
      "source": [
        "from google.colab import drive\n",
        "drive.mount('/gdrive')"
      ],
      "metadata": {
        "colab": {
          "base_uri": "https://localhost:8080/"
        },
        "id": "aL79AlRkIZsk",
        "outputId": "fdba09c0-7e4a-45c2-99fe-5101f4386fbf"
      },
      "execution_count": 1,
      "outputs": [
        {
          "output_type": "stream",
          "name": "stdout",
          "text": [
            "Mounted at /gdrive\n"
          ]
        }
      ]
    },
    {
      "cell_type": "markdown",
      "source": [
        "# Install pandas to read csv files from gdrive. Install torch and numpy which are packages that are needed durind coding."
      ],
      "metadata": {
        "id": "ahK7ZX8VNAzi"
      }
    },
    {
      "cell_type": "code",
      "source": [
        "!pip install pandas\n",
        "import pandas as pd\n",
        "import torch\n",
        "import numpy as np"
      ],
      "metadata": {
        "colab": {
          "base_uri": "https://localhost:8080/"
        },
        "id": "m87BUqi0J_db",
        "outputId": "41ff6de1-ef71-4690-cb1c-061f66360225"
      },
      "execution_count": 2,
      "outputs": [
        {
          "output_type": "stream",
          "name": "stdout",
          "text": [
            "Looking in indexes: https://pypi.org/simple, https://us-python.pkg.dev/colab-wheels/public/simple/\n",
            "Requirement already satisfied: pandas in /usr/local/lib/python3.8/dist-packages (1.3.5)\n",
            "Requirement already satisfied: numpy>=1.17.3 in /usr/local/lib/python3.8/dist-packages (from pandas) (1.21.6)\n",
            "Requirement already satisfied: python-dateutil>=2.7.3 in /usr/local/lib/python3.8/dist-packages (from pandas) (2.8.2)\n",
            "Requirement already satisfied: pytz>=2017.3 in /usr/local/lib/python3.8/dist-packages (from pandas) (2022.6)\n",
            "Requirement already satisfied: six>=1.5 in /usr/local/lib/python3.8/dist-packages (from python-dateutil>=2.7.3->pandas) (1.15.0)\n"
          ]
        }
      ]
    },
    {
      "cell_type": "markdown",
      "source": [
        "## It is time to prepare x, edge_index, y, train_mask and test_mask which are needed for PyG. "
      ],
      "metadata": {
        "id": "L6IDUIcTMnyf"
      }
    },
    {
      "cell_type": "markdown",
      "source": [
        "**Step1 (preparing x)**: Read multivariate dataset from gdrive and convert the type to what is needed in PyG."
      ],
      "metadata": {
        "id": "b6QL_BRXfdO0"
      }
    },
    {
      "cell_type": "code",
      "source": [
        "x = pd.read_csv('/gdrive/MyDrive/4classes.sim/df1_t.csv', sep = ',',header = None)\n",
        "x = x.astype(np.float32) #try to cast all DataFrame columns to specified numpy.dtype\n",
        "x = torch.tensor(x.values) #convert numpy.dtype to a tensor\n",
        "print(x.sum(dim = 1).unique().size()) #to see if there is a duplicate data in x or not\n",
        "print(x.dtype)\n",
        "print(x.type())\n",
        "print(x.size())\n",
        "print(x)"
      ],
      "metadata": {
        "colab": {
          "base_uri": "https://localhost:8080/"
        },
        "id": "XAs1Z5pdKLMo",
        "outputId": "6c4860b1-0d48-45c7-d85e-eb1a6a478ac0"
      },
      "execution_count": 3,
      "outputs": [
        {
          "output_type": "stream",
          "name": "stdout",
          "text": [
            "torch.Size([40])\n",
            "torch.float32\n",
            "torch.FloatTensor\n",
            "torch.Size([40, 500])\n",
            "tensor([[-0.4530,  0.5955, -1.1069,  ...,  0.5985,  0.1790,  0.2985],\n",
            "        [ 0.2027,  0.6537,  0.6290,  ..., -0.1876, -1.2782,  0.5982],\n",
            "        [-0.2713,  0.4418,  1.5845,  ..., -1.1430, -2.2012,  0.7388],\n",
            "        ...,\n",
            "        [ 0.5176, -1.6871, -1.4386,  ..., -0.2084,  1.3068, -0.1615],\n",
            "        [ 0.0700, -1.4413, -0.2656,  ..., -0.3264,  1.0155,  0.4870],\n",
            "        [-0.2865,  1.4095,  1.7289,  ..., -0.3547, -1.7226,  0.7805]])\n"
          ]
        }
      ]
    },
    {
      "cell_type": "markdown",
      "source": [
        "**Step2 (preparing edge_index)**: Read adjacency matrix from gdrive and convert the type to what is needed in PyG. "
      ],
      "metadata": {
        "id": "hrEdQmg8jz8P"
      }
    },
    {
      "cell_type": "code",
      "source": [
        "from scipy.sparse import coo_matrix\n",
        "edge_index_csv = pd.read_csv('/gdrive/MyDrive/4classes.sim/adj_diag_4.csv',sep = ',',header = None)\n",
        "#print(edge_index_csv)\n",
        "edge_index_numpy_ndarry = edge_index_csv.values #convert xlsx file to numpy.ndarry\n",
        "edge_index_coo = coo_matrix(edge_index_numpy_ndarry) #convert symmetric matrix to coo_matrix\n",
        "print(edge_index_coo)"
      ],
      "metadata": {
        "colab": {
          "base_uri": "https://localhost:8080/"
        },
        "id": "RaEDpAkNSICF",
        "outputId": "abb5b1a7-3b33-4a96-df97-09771cff5a75"
      },
      "execution_count": 4,
      "outputs": [
        {
          "output_type": "stream",
          "name": "stdout",
          "text": [
            "  (0, 17)\t1\n",
            "  (0, 33)\t1\n",
            "  (1, 18)\t1\n",
            "  (1, 26)\t1\n",
            "  (1, 37)\t1\n",
            "  (2, 5)\t1\n",
            "  (2, 10)\t1\n",
            "  (2, 23)\t1\n",
            "  (2, 25)\t1\n",
            "  (4, 14)\t1\n",
            "  (4, 21)\t1\n",
            "  (4, 29)\t1\n",
            "  (4, 30)\t1\n",
            "  (5, 2)\t1\n",
            "  (5, 16)\t1\n",
            "  (6, 8)\t1\n",
            "  (6, 9)\t1\n",
            "  (6, 14)\t1\n",
            "  (6, 29)\t1\n",
            "  (6, 30)\t1\n",
            "  (6, 34)\t1\n",
            "  (7, 36)\t1\n",
            "  (8, 6)\t1\n",
            "  (8, 9)\t1\n",
            "  (8, 14)\t1\n",
            "  :\t:\n",
            "  (30, 8)\t1\n",
            "  (30, 9)\t1\n",
            "  (30, 14)\t1\n",
            "  (30, 24)\t1\n",
            "  (30, 29)\t1\n",
            "  (32, 18)\t1\n",
            "  (32, 38)\t1\n",
            "  (33, 0)\t1\n",
            "  (34, 6)\t1\n",
            "  (34, 8)\t1\n",
            "  (34, 9)\t1\n",
            "  (34, 14)\t1\n",
            "  (34, 21)\t1\n",
            "  (34, 24)\t1\n",
            "  (35, 26)\t1\n",
            "  (36, 7)\t1\n",
            "  (37, 1)\t1\n",
            "  (37, 11)\t1\n",
            "  (37, 14)\t1\n",
            "  (37, 19)\t1\n",
            "  (37, 26)\t1\n",
            "  (38, 26)\t1\n",
            "  (38, 32)\t1\n",
            "  (39, 14)\t1\n",
            "  (39, 17)\t1\n"
          ]
        }
      ]
    },
    {
      "cell_type": "code",
      "source": [
        "edge_index_numpy = np.vstack((edge_index_coo.row, edge_index_coo.col)) #convert coo_matrix to numpy.ndarray\n",
        "edge_index_torch_int32 = torch.from_numpy(edge_index_numpy) #convert numpy.ndarray to torch.int32\n",
        "edge_index = edge_index_torch_int32.to(torch.int64) #convert torch.int32 to torch.long\n",
        "print(edge_index)\n",
        "print(edge_index.dtype)\n",
        "print(edge_index.type())\n",
        "print(edge_index.size())"
      ],
      "metadata": {
        "colab": {
          "base_uri": "https://localhost:8080/"
        },
        "id": "lj7vpv0nSPL6",
        "outputId": "68a6f6b9-fa54-4a83-a13c-475701ce7bfc"
      },
      "execution_count": 5,
      "outputs": [
        {
          "output_type": "stream",
          "name": "stdout",
          "text": [
            "tensor([[ 0,  0,  1,  1,  1,  2,  2,  2,  2,  4,  4,  4,  4,  5,  5,  6,  6,  6,\n",
            "          6,  6,  6,  7,  8,  8,  8,  8,  8,  8,  9,  9,  9,  9,  9,  9, 10, 10,\n",
            "         11, 11, 11, 11, 11, 12, 13, 13, 14, 14, 14, 14, 14, 14, 14, 14, 14, 14,\n",
            "         14, 16, 17, 17, 17, 18, 18, 18, 18, 19, 19, 19, 20, 20, 21, 21, 21, 21,\n",
            "         21, 21, 22, 23, 24, 24, 24, 24, 25, 25, 26, 26, 26, 26, 26, 26, 26, 26,\n",
            "         27, 28, 29, 29, 29, 29, 29, 29, 29, 30, 30, 30, 30, 30, 30, 30, 32, 32,\n",
            "         33, 34, 34, 34, 34, 34, 34, 35, 36, 37, 37, 37, 37, 37, 38, 38, 39, 39],\n",
            "        [17, 33, 18, 26, 37,  5, 10, 23, 25, 14, 21, 29, 30,  2, 16,  8,  9, 14,\n",
            "         29, 30, 34, 36,  6,  9, 14, 29, 30, 34,  6,  8, 21, 29, 30, 34,  2, 11,\n",
            "         10, 18, 26, 27, 37, 25, 20, 22,  4,  6,  8, 19, 21, 24, 29, 30, 34, 37,\n",
            "         39,  5,  0, 20, 39,  1, 11, 26, 32, 14, 26, 37, 13, 17,  4,  9, 14, 24,\n",
            "         29, 34, 13,  2, 14, 21, 30, 34,  2, 12,  1, 11, 18, 19, 28, 35, 37, 38,\n",
            "         11, 26,  4,  6,  8,  9, 14, 21, 30,  4,  6,  8,  9, 14, 24, 29, 18, 38,\n",
            "          0,  6,  8,  9, 14, 21, 24, 26,  7,  1, 11, 14, 19, 26, 26, 32, 14, 17]])\n",
            "torch.int64\n",
            "torch.LongTensor\n",
            "torch.Size([2, 126])\n"
          ]
        }
      ]
    },
    {
      "cell_type": "markdown",
      "source": [
        "**Step3 (preparing y)**: Read labels from gdrive and convert the type to what is needed in PyG."
      ],
      "metadata": {
        "id": "ssLh-w5eQRvw"
      }
    },
    {
      "cell_type": "code",
      "source": [
        "labels_csv = pd.read_csv('/gdrive/MyDrive/4classes.sim/labels.csv',sep = ',',header = None)\n",
        "y = torch.tensor(labels_csv.values)\n",
        "y.resize_((40))\n",
        "print(y)"
      ],
      "metadata": {
        "colab": {
          "base_uri": "https://localhost:8080/"
        },
        "id": "RQ9lmUO1SUGC",
        "outputId": "879f0fbe-3ad4-4bf8-b744-3a9d9b9d4218"
      },
      "execution_count": 6,
      "outputs": [
        {
          "output_type": "stream",
          "name": "stdout",
          "text": [
            "tensor([0, 2, 3, 0, 1, 3, 1, 3, 1, 1, 3, 2, 3, 0, 1, 3, 3, 0, 2, 2, 0, 1, 0, 3,\n",
            "        1, 3, 2, 2, 2, 1, 1, 0, 0, 0, 1, 2, 3, 2, 2, 0])\n"
          ]
        }
      ]
    },
    {
      "cell_type": "markdown",
      "source": [
        "**Step4 (preparing train_mask, test_mask)**: split x and y into train and test set."
      ],
      "metadata": {
        "id": "v5iwha3kTDrJ"
      }
    },
    {
      "cell_type": "code",
      "source": [
        "from sklearn.model_selection import train_test_split\n",
        "main_mask, test_mask, y_main, y_test = train_test_split(x, y,  test_size = 22, random_state = 0, shuffle = True, stratify = y)\n",
        "train_mask, val_mask, y_train, y_val = train_test_split(main_mask, y_main,  test_size = 10, random_state = 0, shuffle = True, stratify = y_main)\n",
        "print(train_mask.size())\n",
        "print(val_mask.size())\n",
        "print(test_mask.size())\n",
        "print(train_mask.type())\n",
        "print(y_train.type())"
      ],
      "metadata": {
        "colab": {
          "base_uri": "https://localhost:8080/"
        },
        "id": "5tewkYn3TCdm",
        "outputId": "712a4c30-1f62-42a6-b128-210a5c286724"
      },
      "execution_count": 7,
      "outputs": [
        {
          "output_type": "stream",
          "name": "stdout",
          "text": [
            "torch.Size([8, 500])\n",
            "torch.Size([10, 500])\n",
            "torch.Size([22, 500])\n",
            "torch.FloatTensor\n",
            "torch.LongTensor\n"
          ]
        }
      ]
    },
    {
      "cell_type": "markdown",
      "source": [
        "## To see how many percent of data belong to each class."
      ],
      "metadata": {
        "id": "QFC_xalIbj5Z"
      }
    },
    {
      "cell_type": "code",
      "source": [
        "labels, counts = np.unique(y, return_counts = True)\n",
        "print(counts/float(len(y)))"
      ],
      "metadata": {
        "colab": {
          "base_uri": "https://localhost:8080/"
        },
        "id": "OwDHS7rja0ov",
        "outputId": "1209227a-da75-4c1c-dd2f-3f63c3a1c44a"
      },
      "execution_count": 8,
      "outputs": [
        {
          "output_type": "stream",
          "name": "stdout",
          "text": [
            "[0.25 0.25 0.25 0.25]\n"
          ]
        }
      ]
    },
    {
      "cell_type": "code",
      "source": [
        "labels, counts = np.unique(y_train, return_counts = True)\n",
        "print(counts/float(len(y_train)))"
      ],
      "metadata": {
        "colab": {
          "base_uri": "https://localhost:8080/"
        },
        "id": "_lUHKN31cUjS",
        "outputId": "62900972-98ff-4b82-9f0a-4fef938e87c9"
      },
      "execution_count": 9,
      "outputs": [
        {
          "output_type": "stream",
          "name": "stdout",
          "text": [
            "[0.25 0.25 0.25 0.25]\n"
          ]
        }
      ]
    },
    {
      "cell_type": "code",
      "source": [
        "labels, counts = np.unique(y_test, return_counts = True)\n",
        "print(counts/float(len(y_val)))"
      ],
      "metadata": {
        "colab": {
          "base_uri": "https://localhost:8080/"
        },
        "id": "JnVBkabKLoE2",
        "outputId": "c1acdb7f-522e-4049-c099-f4fd1d345f45"
      },
      "execution_count": 10,
      "outputs": [
        {
          "output_type": "stream",
          "name": "stdout",
          "text": [
            "[0.6 0.6 0.5 0.5]\n"
          ]
        }
      ]
    },
    {
      "cell_type": "code",
      "source": [
        "labels, counts = np.unique(y_test, return_counts = True)\n",
        "print(counts/float(len(y_test)))"
      ],
      "metadata": {
        "colab": {
          "base_uri": "https://localhost:8080/"
        },
        "id": "76UVxDNKcxHU",
        "outputId": "69d02147-23ec-4a42-9bb7-148e16a05af4"
      },
      "execution_count": 11,
      "outputs": [
        {
          "output_type": "stream",
          "name": "stdout",
          "text": [
            "[0.27272727 0.27272727 0.22727273 0.22727273]\n"
          ]
        }
      ]
    },
    {
      "cell_type": "markdown",
      "source": [
        "## Preparing train_mask and test_mask based on PyG."
      ],
      "metadata": {
        "id": "16BSSjRcdQag"
      }
    },
    {
      "cell_type": "code",
      "source": [
        "train_mask = (x.unsqueeze(0) == train_mask.unsqueeze(1)).all(dim = 2).any(dim = 0)\n",
        "print(train_mask)\n",
        "print(train_mask.size())\n",
        "print(sum(train_mask))\n",
        "\n",
        "val_mask = (x.unsqueeze(0) == val_mask.unsqueeze(1)).all(dim = 2).any(dim = 0)\n",
        "print(val_mask)\n",
        "print(val_mask.size())\n",
        "print(sum(val_mask))\n",
        "\n",
        "test_mask = (x.unsqueeze(0) == test_mask.unsqueeze(1)).all(dim = 2 ).any(dim = 0)\n",
        "print(test_mask)\n",
        "print(test_mask.size())\n",
        "print(sum(test_mask))"
      ],
      "metadata": {
        "colab": {
          "base_uri": "https://localhost:8080/"
        },
        "id": "yUdh-7BZdPMT",
        "outputId": "a588edac-6587-4118-b0e6-b3dae7abba15"
      },
      "execution_count": 12,
      "outputs": [
        {
          "output_type": "stream",
          "name": "stdout",
          "text": [
            "tensor([ True, False, False, False, False,  True, False, False, False,  True,\n",
            "        False, False,  True, False,  True, False, False, False,  True, False,\n",
            "        False, False,  True, False, False, False, False,  True, False, False,\n",
            "        False, False, False, False, False, False, False, False, False, False])\n",
            "torch.Size([40])\n",
            "tensor(8)\n",
            "tensor([False, False, False, False, False, False, False,  True,  True, False,\n",
            "        False,  True, False, False, False,  True, False, False, False, False,\n",
            "         True,  True, False,  True, False, False, False, False,  True, False,\n",
            "        False,  True, False, False, False, False, False, False,  True, False])\n",
            "torch.Size([40])\n",
            "tensor(10)\n",
            "tensor([False,  True,  True,  True,  True, False,  True, False, False, False,\n",
            "         True, False, False,  True, False, False,  True,  True, False,  True,\n",
            "        False, False, False, False,  True,  True,  True, False, False,  True,\n",
            "         True, False,  True,  True,  True,  True,  True,  True, False,  True])\n",
            "torch.Size([40])\n",
            "tensor(22)\n"
          ]
        }
      ]
    },
    {
      "cell_type": "markdown",
      "source": [
        "## It is time to use p_link as attentions."
      ],
      "metadata": {
        "id": "EsBeYHPCdiXr"
      }
    },
    {
      "cell_type": "code",
      "source": [
        "p_link = pd.read_csv('/gdrive/MyDrive/4classes.sim/p_links.csv', sep =',',header = None)\n",
        "p_link = p_link.astype(np.float32)\n",
        "p_link = torch.tensor(p_link.values)\n",
        "#p_link = p_link.to(torch.float32)\n",
        "print(p_link.size())\n",
        "print(p_link.dtype)\n",
        "print(p_link.type())"
      ],
      "metadata": {
        "colab": {
          "base_uri": "https://localhost:8080/"
        },
        "id": "hteowDhldhjM",
        "outputId": "0bc4a7f6-4d7e-4d08-c47f-47c9131a533b"
      },
      "execution_count": 13,
      "outputs": [
        {
          "output_type": "stream",
          "name": "stdout",
          "text": [
            "torch.Size([40, 40])\n",
            "torch.float32\n",
            "torch.FloatTensor\n"
          ]
        }
      ]
    },
    {
      "cell_type": "markdown",
      "source": [
        "# Now everything is ready to develop our GNNs."
      ],
      "metadata": {
        "id": "HQ00WaUyfMnz"
      }
    },
    {
      "cell_type": "markdown",
      "source": [
        "# Install torch_geometric."
      ],
      "metadata": {
        "id": "k8NiIPYKgni6"
      }
    },
    {
      "cell_type": "code",
      "source": [
        "import os\n",
        "os.environ['TORCH'] = torch.__version__\n",
        "print(torch.__version__)\n",
        "\n",
        "!pip install -q torch-scatter -f https://data.pyg.org/whl/torch-${TORCH}.html\n",
        "!pip install -q torch-sparse -f https://data.pyg.org/whl/torch-${TORCH}.html\n",
        "!pip install -q git+https://github.com/pyg-team/pytorch_geometric.git"
      ],
      "metadata": {
        "id": "Q59oA6YGfcFy",
        "colab": {
          "base_uri": "https://localhost:8080/"
        },
        "outputId": "32edf896-15ba-467a-e21f-8e99d97398f6"
      },
      "execution_count": 14,
      "outputs": [
        {
          "output_type": "stream",
          "name": "stdout",
          "text": [
            "1.13.0+cu116\n",
            "\u001b[K     |████████████████████████████████| 9.4 MB 5.3 MB/s \n",
            "\u001b[K     |████████████████████████████████| 4.6 MB 5.3 MB/s \n",
            "\u001b[K     |████████████████████████████████| 280 kB 5.1 MB/s \n",
            "\u001b[?25h  Building wheel for torch-geometric (setup.py) ... \u001b[?25l\u001b[?25hdone\n"
          ]
        }
      ]
    },
    {
      "cell_type": "markdown",
      "source": [
        "# Save data in order to use it. "
      ],
      "metadata": {
        "id": "1cznuQaSf3Ct"
      }
    },
    {
      "cell_type": "code",
      "source": [
        "from torch_geometric.data import Data\n",
        "Data = Data(x = x, edge_index = edge_index, y = y, train_mask = train_mask, val_mask = val_mask, test_mask = test_mask)\n",
        "print(Data)"
      ],
      "metadata": {
        "id": "lra4sG3HStp8",
        "colab": {
          "base_uri": "https://localhost:8080/"
        },
        "outputId": "f5842a9f-8488-458a-e93b-ccbea33e5c04"
      },
      "execution_count": 15,
      "outputs": [
        {
          "output_type": "stream",
          "name": "stdout",
          "text": [
            "Data(x=[40, 500], edge_index=[2, 126], y=[40], train_mask=[40], val_mask=[40], test_mask=[40])\n"
          ]
        }
      ]
    },
    {
      "cell_type": "code",
      "source": [
        "data_save_name = 'data.pt'  \n",
        "path = F\"/gdrive/MyDrive/4classes.sim/{data_save_name}\" \n",
        "torch.save(Data.to_dict(), path)"
      ],
      "metadata": {
        "id": "CylQSmTsSGkf"
      },
      "execution_count": 16,
      "outputs": []
    },
    {
      "cell_type": "code",
      "source": [
        "p_link_save_name = 'p_link.pt'  \n",
        "path = F\"/gdrive/MyDrive/4classes.sim/{p_link_save_name}\" \n",
        "torch.save(p_link, path)"
      ],
      "metadata": {
        "id": "qFsJBIaz3P5h"
      },
      "execution_count": 17,
      "outputs": []
    }
  ]
}